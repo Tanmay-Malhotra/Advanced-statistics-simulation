{
  "nbformat": 4,
  "nbformat_minor": 0,
  "metadata": {
    "colab": {
      "provenance": [],
      "authorship_tag": "ABX9TyNZNfZfunahrvImH52TeNw1",
      "include_colab_link": true
    },
    "kernelspec": {
      "name": "python3",
      "display_name": "Python 3"
    },
    "language_info": {
      "name": "python"
    }
  },
  "cells": [
    {
      "cell_type": "markdown",
      "metadata": {
        "id": "view-in-github",
        "colab_type": "text"
      },
      "source": [
        "<a href=\"https://colab.research.google.com/github/Tanmay123i/Advanced-statistics-simulation/blob/main/Monte_Carlo_Simulation.ipynb\" target=\"_parent\"><img src=\"https://colab.research.google.com/assets/colab-badge.svg\" alt=\"Open In Colab\"/></a>"
      ]
    },
    {
      "cell_type": "markdown",
      "metadata": {
        "id": "DFVYyoMKKj7i"
      },
      "source": [
        "# Probability in Python"
      ]
    },
    {
      "cell_type": "markdown",
      "metadata": {
        "id": "yQnPw68Ono8S"
      },
      "source": [
        "importing Numpy"
      ]
    },
    {
      "cell_type": "code",
      "metadata": {
        "id": "pV7_0aGuiytb"
      },
      "source": [
        "import numpy as np"
      ],
      "execution_count": null,
      "outputs": []
    },
    {
      "cell_type": "markdown",
      "metadata": {
        "id": "qdCYJhrAoHVZ"
      },
      "source": [
        "# Function for uniform outcome\n",
        "\n",
        "$n$: number of outcomes in the sample space\n",
        "\n",
        "Output: $m$ outcomes selected uniformly at random from 1 to $n$"
      ]
    },
    {
      "cell_type": "code",
      "metadata": {
        "id": "JK-MRio0oRX7",
        "cellView": "code"
      },
      "source": [
        "def uniform(n, m):\n",
        "  return np.random.randint(1, n+1, size = m)"
      ],
      "execution_count": null,
      "outputs": []
    },
    {
      "cell_type": "markdown",
      "source": [
        "### Finding the probabilities manually\n",
        "\n",
        "Defining a random variable -X = Rolling a dice and getting 1, 2 or 3.\n",
        "\n",
        "Range of X = { 1 , 2 , 3}\n",
        "\n",
        "1 denotes the occurrence of 1\n",
        "\n",
        "2 denotes the occurrence of 2\n",
        "\n",
        "3 denotes the occurrence of 3\n",
        "\n",
        "Probability of occurrence of either 1, 2 or 3 from manual calculation is = 3/6\n",
        "\n",
        "= 0.5"
      ],
      "metadata": {
        "id": "WbuKJlZtTChD"
      }
    },
    {
      "cell_type": "markdown",
      "metadata": {
        "id": "fNTXoPKaytVy"
      },
      "source": [
        "# Probability of die showing a number\n",
        "\n",
        "We will modify the Monte Carlo simulation above for finding the probability that a dies shows a number falling in an event $A$. You will see that the estimate is close to $P(A)$. If you change the loop iterations to 10000, the estimate will be much closer to $P(A)$ and more consistent as well."
      ]
    },
    {
      "cell_type": "code",
      "metadata": {
        "colab": {
          "base_uri": "https://localhost:8080/"
        },
        "id": "9U8CCvkly4Tv",
        "outputId": "e38410b4-7ca4-461c-d920-a21267cf57af"
      },
      "source": [
        "import numpy as np\n",
        "def uniform(n, m):\n",
        "  return np.random.randint(1, n+1, size = m)\n",
        "no = 0   #variable for storing number of event occurence\n",
        "for i in range(10000): #repetitions\n",
        "  die = uniform(6,1)  #experiment\n",
        "  if die == 1 or die == 2 or die == 3: #Event\n",
        "    no = no + 1\n",
        "print(no/10000) #probability estimate by Monte Carlo"
      ],
      "execution_count": null,
      "outputs": [
        {
          "output_type": "stream",
          "name": "stdout",
          "text": [
            "0.5019\n"
          ]
        }
      ]
    }
  ]
}